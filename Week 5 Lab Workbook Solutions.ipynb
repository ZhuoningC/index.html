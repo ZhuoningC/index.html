{
 "cells": [
  {
   "cell_type": "markdown",
   "metadata": {},
   "source": [
    "<h1> MTH4000 Programming in Python I</h1>\n",
    "<h2> Week 5 Lab Workbook (Solutions)</h2>\n",
    "<h3><em> Dr Matthew Lewis and Prof. Thomas Prellberg </em></h3>"
   ]
  },
  {
   "cell_type": "markdown",
   "metadata": {},
   "source": [
    "<h2> Exercise 1: <em>Logical Operators</em> </h2>\n",
    "\n",
    "In the lecture notes, we saw logical operators that acted on pairs of boolean values to produce other booleans.  One such operator was <code><span style=\"color:rgb(0,128,0);font-weight:bold;\">and</span></code>.\n",
    "\n",
    "Since there are only two distinct boolean values (<code><span style=\"color:rgb(0,128,0);font-weight:bold;\">True</span></code> and <code><span style=\"color:rgb(0,128,0);font-weight:bold;\">False</span></code>), and there are two arguments in each call using the <code><span style=\"color:rgb(0,128,0);font-weight:bold;\">and</span></code> operator, there will be $2\\times 2=4$ combinations that define the effect of this operator. Compute and print the truth value of these four combinations."
   ]
  },
  {
   "cell_type": "code",
   "execution_count": 1,
   "metadata": {
    "ExecuteTime": {
     "end_time": "2024-10-21T18:18:25.039669Z",
     "start_time": "2024-10-21T18:18:25.029828Z"
    }
   },
   "outputs": [
    {
     "name": "stdout",
     "output_type": "stream",
     "text": [
      "True\n",
      "False\n",
      "False\n",
      "False\n"
     ]
    }
   ],
   "source": [
    "print(True and True)\n",
    "print(True and False)\n",
    "print(False and True)\n",
    "print(False and False)"
   ]
  },
  {
   "cell_type": "markdown",
   "metadata": {},
   "source": [
    "We can collate this data into a truth table.  This effectively gives a definition of the <code><span style=\"color:rgb(0,128,0);font-weight:bold;\">and</span></code> operator.\n",
    "\n",
    "| A | B | B and A |\n",
    "|---|---|---|\n",
    "| True | True | True |\n",
    "| True | False | False |\n",
    "| False | True | False |\n",
    "| False | False | False |\n",
    "\n",
    "The implies operator (sometimes denoted with the symbol <samp>⇒</samp> ) is not implemented in a standard Python environment.  It can be defined with the following truth table:\n",
    "\n",
    "| A | B | A ⇒ B |\n",
    "|---|---|---|\n",
    "| True | True | True |\n",
    "| True | False | False |\n",
    "| False | True | True |\n",
    "| False | False | True |\n",
    "\n",
    "Using built-in logical operators, verify that for any boolean values <samp>A</samp> and <samp>B</samp>, the statement <samp>A&nbsp;⇒&nbsp;B</samp> is equivalent to the statement <samp>B&nbsp;or&nbsp;not&nbsp;A</samp>."
   ]
  },
  {
   "cell_type": "code",
   "execution_count": 2,
   "metadata": {
    "ExecuteTime": {
     "end_time": "2024-10-21T18:18:25.046385Z",
     "start_time": "2024-10-21T18:18:25.041675Z"
    }
   },
   "outputs": [
    {
     "name": "stdout",
     "output_type": "stream",
     "text": [
      "True\n",
      "False\n",
      "True\n",
      "True\n"
     ]
    }
   ],
   "source": [
    "print(True or not True)\n",
    "print(False or not True)\n",
    "print(True or not False)\n",
    "print(False or not False)"
   ]
  },
  {
   "cell_type": "markdown",
   "metadata": {},
   "source": [
    "Use these operations to construct our own function <code>implies</code> that will accept any two boolean values, <code>A</code> and <code>B</code>, and return the boolean value of the statement <samp><code>A</code>&nbsp;⇒&nbsp;<code>B</code></samp>."
   ]
  },
  {
   "cell_type": "code",
   "execution_count": 3,
   "metadata": {
    "ExecuteTime": {
     "end_time": "2024-10-21T18:18:25.058863Z",
     "start_time": "2024-10-21T18:18:25.048391Z"
    }
   },
   "outputs": [],
   "source": [
    "def implies(A, B):\n",
    "    \"\"\"Return the boolean value of the statement 'A implies B'.\n",
    "\n",
    "    Parameters: A, B (bools)\n",
    "\n",
    "    Returns: out (bool)\"\"\"\n",
    "    out = B or not A\n",
    "    return out"
   ]
  },
  {
   "cell_type": "markdown",
   "metadata": {},
   "source": [
    "Test this function by calling it for all four combinations of boolean values that can be returned to <code>A</code> and <code>B</code>."
   ]
  },
  {
   "cell_type": "code",
   "execution_count": 4,
   "metadata": {
    "ExecuteTime": {
     "end_time": "2024-10-21T18:18:25.066028Z",
     "start_time": "2024-10-21T18:18:25.061870Z"
    }
   },
   "outputs": [
    {
     "name": "stdout",
     "output_type": "stream",
     "text": [
      "True\n",
      "False\n",
      "True\n",
      "True\n"
     ]
    }
   ],
   "source": [
    "print(implies(True, True))\n",
    "print(implies(True, False))\n",
    "print(implies(False, True))\n",
    "print(implies(False, False))"
   ]
  },
  {
   "cell_type": "markdown",
   "metadata": {},
   "source": [
    "Now write a function <code>not_implies</code> that, for any booleans <code>A</code> and <code>B</code>, returns the negation of the call <code>implies(A, B)</code>."
   ]
  },
  {
   "cell_type": "code",
   "execution_count": 5,
   "metadata": {
    "ExecuteTime": {
     "end_time": "2024-10-21T18:18:25.072545Z",
     "start_time": "2024-10-21T18:18:25.068038Z"
    }
   },
   "outputs": [],
   "source": [
    "def not_implies(A, B):\n",
    "    \"\"\"Return the boolean value of the statement 'not (A implies B').\n",
    "\n",
    "    Parameters: A, B (bools)\n",
    "\n",
    "    Returns: out (bool)\"\"\"\n",
    "    out = not implies(A, B)\n",
    "    return out"
   ]
  },
  {
   "cell_type": "markdown",
   "metadata": {},
   "source": [
    "Test this function with all four combinations of inputs."
   ]
  },
  {
   "cell_type": "code",
   "execution_count": 6,
   "metadata": {
    "ExecuteTime": {
     "end_time": "2024-10-21T18:18:25.078872Z",
     "start_time": "2024-10-21T18:18:25.074554Z"
    }
   },
   "outputs": [
    {
     "name": "stdout",
     "output_type": "stream",
     "text": [
      "False\n",
      "True\n",
      "False\n",
      "False\n"
     ]
    }
   ],
   "source": [
    "print(not_implies(True, True))\n",
    "print(not_implies(True, False))\n",
    "print(not_implies(False, True))\n",
    "print(not_implies(False, False))"
   ]
  },
  {
   "cell_type": "markdown",
   "metadata": {},
   "source": [
    "We now wish to test out these function by applying them to mathematical results (results that use implications).\n",
    "\n",
    "For integers $a, m\\in\\mathbb{Z}$, we say that $a$ divides $m$ (and write $a|m$) if there exists some $k\\in\\mathbb{Z}$ such that $m=ka$.\n",
    "\n",
    "Write a function <code>divides</code> which accepts two integers, <code>a</code> and <code>m</code>, and returns a boolean corresponding to the truth value of the statement '<code>a</code> divides <code>m</code>'."
   ]
  },
  {
   "cell_type": "code",
   "execution_count": 7,
   "metadata": {
    "ExecuteTime": {
     "end_time": "2024-10-21T18:18:25.084546Z",
     "start_time": "2024-10-21T18:18:25.080882Z"
    }
   },
   "outputs": [],
   "source": [
    "def divides(a, m):\n",
    "    \"\"\"Return the boolean value of the statement 'a divides m'.\n",
    "\n",
    "    Parameters: a, m (ints)\n",
    "\n",
    "    Returns: out (bool)\"\"\"\n",
    "    out = m%a==0\n",
    "    return out"
   ]
  },
  {
   "cell_type": "markdown",
   "metadata": {},
   "source": [
    "Test that this function works by evaluating it for one combinations of integers that results in <code><span style=\"color:rgb(0,128,0);font-weight:bold;\">True</span></code> being returned, and one combination that gives <code><span style=\"color:rgb(0,128,0);font-weight:bold;\">False</span></code>."
   ]
  },
  {
   "cell_type": "code",
   "execution_count": 8,
   "metadata": {
    "ExecuteTime": {
     "end_time": "2024-10-21T18:18:25.092444Z",
     "start_time": "2024-10-21T18:18:25.085550Z"
    }
   },
   "outputs": [
    {
     "name": "stdout",
     "output_type": "stream",
     "text": [
      "True\n",
      "False\n"
     ]
    }
   ],
   "source": [
    "print(divides(1, 2))\n",
    "print(divides(3, 2))"
   ]
  },
  {
   "cell_type": "markdown",
   "metadata": {},
   "source": [
    "Observe the following result:\n",
    "\n",
    "<blockquote><b>Theorem:</b> Let $a, b, m, n\\in\\mathbb{Z}$.\n",
    "\n",
    "If $\\,a|m\\,$ and $\\,b|n\\,$, then $\\,ab|mn\\,$.</blockquote>\n",
    "\n",
    "According to this result, the statement\n",
    "\n",
    "<blockquote>If <samp>7</samp> divides <samp>14</samp> and <samp>2</samp> divides <samp>4</samp>, then <samp>14</samp> divides <samp>56</samp>.</blockquote>\n",
    "\n",
    "is true, as is the statement\n",
    "\n",
    "<blockquote>If <samp>7</samp> divides <samp>14</samp> and <samp>2</samp> divides <samp>3</samp>, then <samp>14</samp> divides <samp>42</samp>.</blockquote>\n",
    "\n",
    "Using the <code>implies</code> and <code>divides</code> functions defined above, write a function <code>test_theorem</code> that accepts four integers, <code>a</code>, <code>b</code>, <code>m</code> and <code>n</code>, and returns the boolean value of the statement given in the above theorem."
   ]
  },
  {
   "cell_type": "code",
   "execution_count": 9,
   "metadata": {
    "ExecuteTime": {
     "end_time": "2024-10-21T18:18:25.100009Z",
     "start_time": "2024-10-21T18:18:25.095448Z"
    }
   },
   "outputs": [],
   "source": [
    "def test_theorem(a, b, m, n):\n",
    "    \"\"\"Accept values a, b, m, n, and return the boolean value\n",
    "    of the statement 'If a divides m, and b divides n, then\n",
    "    ab divides mn.'.\n",
    "\n",
    "    Parameters: a, b, m, n (ints)\n",
    "\n",
    "    Returns: out (bool)\"\"\"\n",
    "    out = implies(divides(a, m) and divides(b, n), divides(a*b, m*n))\n",
    "    return out"
   ]
  },
  {
   "cell_type": "markdown",
   "metadata": {},
   "source": [
    "Test this function by calling it for a few well-chosen examples."
   ]
  },
  {
   "cell_type": "code",
   "execution_count": 10,
   "metadata": {
    "ExecuteTime": {
     "end_time": "2024-10-21T18:18:25.109328Z",
     "start_time": "2024-10-21T18:18:25.104015Z"
    }
   },
   "outputs": [
    {
     "name": "stdout",
     "output_type": "stream",
     "text": [
      "True\n",
      "True\n",
      "True\n",
      "True\n"
     ]
    }
   ],
   "source": [
    "print(test_theorem(2, 3, 4, 6)) # ( (True and True) implies True) is True\n",
    "print(test_theorem(2, 6, 8, 3)) # ( (True and False) implies True) is True\n",
    "print(test_theorem(2, 15, 3, 10)) # ( (False and False) implies True) is True\n",
    "print(test_theorem(2, 3, 7, 4)) # ( (False and False) implies False) is True"
   ]
  },
  {
   "cell_type": "markdown",
   "metadata": {},
   "source": [
    "Now consider the following claim, which is different from the result shown above:\n",
    "\n",
    "<blockquote><b>Claim:</b> Let $a, b, n\\in\\mathbb{Z}$.\n",
    "\n",
    "If $\\,a|n\\,$ and $\\,b|n\\,$, then $\\,ab|n\\,$.</blockquote>\n",
    "\n",
    "Write a function <code>test_claim</code> that accepts three integers, <code>a</code>, <code>b</code> and <code>n</code>, and returns the boolean value of the statement given in the above claim."
   ]
  },
  {
   "cell_type": "code",
   "execution_count": 11,
   "metadata": {
    "ExecuteTime": {
     "end_time": "2024-10-21T18:18:25.116606Z",
     "start_time": "2024-10-21T18:18:25.111335Z"
    }
   },
   "outputs": [],
   "source": [
    "def test_claim(a, b, n):\n",
    "    \"\"\"Accept values a, b, n, and return the boolean value\n",
    "    of the statement 'If a divides m, and b divides n, then\n",
    "    ab divides n.'.\n",
    "\n",
    "    Parameters: a, b, n (ints)\n",
    "\n",
    "    Returns: out (bool)\"\"\"\n",
    "    out = implies(divides(a, n) and divides(b, n), divides(a*b,n))\n",
    "    return out"
   ]
  },
  {
   "cell_type": "markdown",
   "metadata": {},
   "source": [
    "Find at least one combination of integers <code>a</code>, <code>b</code> and <code>n</code> such that the function <code>test_claim</code> returns a boolean value of <code><span style=\"color:rgb(0,128,0);font-weight:bold;\">False</span></code>."
   ]
  },
  {
   "cell_type": "code",
   "execution_count": 12,
   "metadata": {
    "ExecuteTime": {
     "end_time": "2024-10-21T18:18:25.123729Z",
     "start_time": "2024-10-21T18:18:25.118615Z"
    }
   },
   "outputs": [
    {
     "name": "stdout",
     "output_type": "stream",
     "text": [
      "False\n"
     ]
    }
   ],
   "source": [
    "print(test_claim(3, 3, 12))"
   ]
  },
  {
   "cell_type": "markdown",
   "metadata": {},
   "source": [
    "Since this function returns the truth value of the above claim (for the called values of $a$, $b$ and $n$), this <code><span style=\"color:rgb(0,128,0);font-weight:bold;\">False</span></code> output disproves the statement."
   ]
  },
  {
   "cell_type": "markdown",
   "metadata": {},
   "source": [
    "<h2> Exercise 2: <em>Roots of Cubics</em> </h2>\n",
    "\n",
    "The discriminant of the cubic polynomial given by $\\,p(x)=ax^3+bx^2+cx+d\\,$ is\n",
    "\n",
    "$$\\Delta=b^2c^2-4ac^3-4b^3d-27a^2d^2+18abcd\\;.$$\n",
    "\n",
    "The discriminant gives us information about the roots of $p$:\n",
    "<ul>\n",
    "    <li>if $\\Delta>0$, then $p$ has 3 distinct real roots;</li>\n",
    "    <li>if $\\Delta<0$, then $p$ has 2 distinct complex roots and 1 real root;</li>\n",
    "    <li>if $\\Delta=0$, then $p$ has 3 real roots, at least 2 of which are the same.</li>\n",
    "</ul>\n",
    "\n",
    "Any cubic polynomial $\\,p(x)=ax^3+bx^2+cx+d\\,$ can be represented by its coefficients $a, b, c, d$.  For example, the polynomial $p(x)=x^3-x+1$ can be represented by the values $1, 0, -1, 1$.\n",
    "\n",
    "Write a function <code>has_three_real_roots</code> that accepts four floats <code>a</code>, <code>b</code>, <code>c</code> and <code>d</code> that are representative of the coefficients of a cubic polynomial, and returns a value of <code><span style=\"color:rgb(0,128,0);font-weight:bold;\">True</span></code> if the corresponding cubic has 3 distinct real roots, and <code><span style=\"color:rgb(0,128,0);font-weight:bold;\">False</span></code> otherwise."
   ]
  },
  {
   "cell_type": "code",
   "execution_count": 13,
   "metadata": {
    "ExecuteTime": {
     "end_time": "2024-10-21T18:18:25.134451Z",
     "start_time": "2024-10-21T18:18:25.126743Z"
    }
   },
   "outputs": [],
   "source": [
    "def has_three_real_roots(a, b, c, d):\n",
    "    \"\"\"Return the boolean value of the statement\n",
    "    'ax^3 + bx^2 + cx + d = 0 has three distinct real roots.'\n",
    "    \n",
    "    Parameters: a, b, c, d (floats)\n",
    "    \n",
    "    Returns: out (bool)\n",
    "    \"\"\"\n",
    "    discriminant = (b**2)*(c**2)-4*a*(c**3)-4*(b**3)*d-27*(a**2)*(d**2)+18*a*b*c*d\n",
    "    out = discriminant>0\n",
    "    return out"
   ]
  },
  {
   "cell_type": "markdown",
   "metadata": {},
   "source": [
    "Test this function on the polynomials\n",
    "\n",
    "<ol>\n",
    "    <li>$\\: x^3$</li>\n",
    "    <li>$\\: x(1-x)^2$</li>\n",
    "    <li>$\\: x^3-x+1$</li>\n",
    "    <li>$\\: x^3-x$</li>\n",
    "</ol>"
   ]
  },
  {
   "cell_type": "code",
   "execution_count": 14,
   "metadata": {
    "ExecuteTime": {
     "end_time": "2024-10-21T18:18:25.142193Z",
     "start_time": "2024-10-21T18:18:25.136459Z"
    }
   },
   "outputs": [
    {
     "name": "stdout",
     "output_type": "stream",
     "text": [
      "False\n",
      "False\n",
      "False\n",
      "True\n"
     ]
    }
   ],
   "source": [
    "print(has_three_real_roots(1, 0, 0, 0))\n",
    "print(has_three_real_roots(1, -2, 1, 0))\n",
    "print(has_three_real_roots(1, 0, -1, 1))\n",
    "print(has_three_real_roots(1, 0, -1, 0))"
   ]
  },
  {
   "cell_type": "markdown",
   "metadata": {},
   "source": [
    "<h2> Exercise 3: <em>Moon-te Carlo Methods</em> </h2>\n",
    "\n",
    "A Monte Carlo method is an algorithm that approximates the area of a region by taking a large sample of uniformly distributed points over an area that covers that region, and evaluating the proportion of points that fall inside it.\n",
    "\n",
    "For instance, consider the region bounded by the following condition:\n",
    "\n",
    "$$x^2+y^2\\leq 1\\: .$$\n",
    "\n",
    "This region is shown shaded in white in the plot below."
   ]
  },
  {
   "cell_type": "code",
   "execution_count": 15,
   "metadata": {
    "ExecuteTime": {
     "end_time": "2024-10-21T18:18:25.860183Z",
     "start_time": "2024-10-21T18:18:25.144200Z"
    }
   },
   "outputs": [
    {
     "data": {
      "image/png": "[encoded data removed]",
      "text/plain": [
       "<Figure size 640x480 with 1 Axes>"
      ]
     },
     "metadata": {},
     "output_type": "display_data"
    }
   ],
   "source": [
    "import numpy as np\n",
    "from matplotlib import pyplot as plt\n",
    "\n",
    "x = np.linspace(-1, 1, 100)\n",
    "y1 = (1-x**2)**0.5\n",
    "y2 = -(1-x**2)**0.5\n",
    "\n",
    "plt.plot(x, y1, color = 'white')\n",
    "plt.plot(x, y2, color = 'white')\n",
    "ax = plt.gca()\n",
    "ax.axis('equal')\n",
    "ax.set_facecolor('black')\n",
    "ax.fill_between(x, y1, y2, facecolor = 'white')\n",
    "plt.show()"
   ]
  },
  {
   "cell_type": "markdown",
   "metadata": {},
   "source": [
    "It should be clear that this boundary is a circle of radius $1$, and so a Monte Carlo method should return a value approximately equal to $\\pi$.\n",
    "\n",
    "The region is covered by the set $[-1,1]\\times[-1,1]$, which is a square of area $4$.  \n",
    "\n",
    "Therefore, if we take a large number of uniformly distributed points over the square $[-1,1]\\times[-1,1]$, the proportion of the points that lie inside the region should be approximately equal to a quarter of the region's area."
   ]
  },
  {
   "cell_type": "code",
   "execution_count": 16,
   "metadata": {
    "ExecuteTime": {
     "end_time": "2024-10-21T18:18:25.875434Z",
     "start_time": "2024-10-21T18:18:25.862193Z"
    }
   },
   "outputs": [],
   "source": [
    "from random import uniform\n",
    "\n",
    "# Create a list of 10000 points (x,y) that are uniformly distributed\n",
    "# in the square [-1,1]*[-1,1]\n",
    "points = [(uniform(-1,1),uniform(-1,1)) for i in range(10000)]"
   ]
  },
  {
   "cell_type": "markdown",
   "metadata": {},
   "source": [
    "Define a function <code>inside_circle</code> that accepts a tuple <code>x</code> corresponding to the coordinates of a point in the set $[-1,1]\\times[-1,1]$, and returns <samp>1</samp> if the point <code>x</code> lies inside the circle $x^2+y^2=1\\,$, and <samp>0</samp> otherwise."
   ]
  },
  {
   "cell_type": "code",
   "execution_count": 17,
   "metadata": {
    "ExecuteTime": {
     "end_time": "2024-10-21T18:18:25.882940Z",
     "start_time": "2024-10-21T18:18:25.877445Z"
    }
   },
   "outputs": [],
   "source": [
    "def inside_circle(x):\n",
    "    \"\"\"Return an integer corresponding to the truth value of the statement\n",
    "    'The point given by x lies inside the circle x^2+y^2=1.'.\n",
    "\n",
    "    Parameters: x (tuple)\n",
    "\n",
    "    Returns: out (int)\"\"\"\n",
    "    if x[0]**2+x[1]**2<=1:\n",
    "        out = 1\n",
    "    else:\n",
    "        out = 0\n",
    "    return out"
   ]
  },
  {
   "cell_type": "markdown",
   "metadata": {},
   "source": [
    "Use this function to find the proportion of points inside the list <code>points</code> that lie inside the circle $x^2+y^2=1$, then use this proportion to find an estimate for $\\pi$."
   ]
  },
  {
   "cell_type": "code",
   "execution_count": 18,
   "metadata": {
    "ExecuteTime": {
     "end_time": "2024-10-21T18:18:25.894892Z",
     "start_time": "2024-10-21T18:18:25.884948Z"
    }
   },
   "outputs": [
    {
     "data": {
      "text/plain": [
       "3.1364"
      ]
     },
     "execution_count": 18,
     "metadata": {},
     "output_type": "execute_result"
    }
   ],
   "source": [
    "4*sum([inside_circle(i) for i in points])/len(points)"
   ]
  },
  {
   "cell_type": "markdown",
   "metadata": {},
   "source": [
    "Now consider the region bounded by the conditions:\n",
    "\n",
    "$$\\begin{align*}\n",
    "x^2+y^2 &\\leq 9\\\\\n",
    "\\text{and}\\qquad 3x^2+y^2 &\\geq 9\n",
    "\\end{align*}$$\n",
    "\n",
    "This region is shown shaded in white in the plot below."
   ]
  },
  {
   "cell_type": "code",
   "execution_count": 19,
   "metadata": {
    "ExecuteTime": {
     "end_time": "2024-10-21T18:18:26.015100Z",
     "start_time": "2024-10-21T18:18:25.896901Z"
    }
   },
   "outputs": [
    {
     "data": {
      "image/png": "[encoded data removed]",
      "text/plain": [
       "<Figure size 640x480 with 1 Axes>"
      ]
     },
     "metadata": {},
     "output_type": "display_data"
    }
   ],
   "source": [
    "y=np.linspace(-3,3,100)\n",
    "x1=-(9-y**2)**0.5\n",
    "x2=-(1/3**0.5)*(9-y**2)**0.5\n",
    "\n",
    "plt.plot(x1,y,color='white')\n",
    "plt.plot(x2,y,color='white')\n",
    "ax=plt.gca()\n",
    "ax.axis('equal')\n",
    "ax.set_facecolor('black')\n",
    "ax.fill_between(x1,y,facecolor='white')\n",
    "ax.fill_between(x2,y,facecolor='black',edgecolor='black')\n",
    "plt.show()"
   ]
  },
  {
   "cell_type": "markdown",
   "metadata": {},
   "source": [
    "In the box below, define a new list <code>points</code> containing <samp>10000</samp> uniformly distributed points that cover the rectangle $[-3,0]\\times[-3,3]$.\n",
    "\n",
    "Also, define a function <code>inside_crescent</code> that accepts a point <code>x</code> in this rectangle, and returns a value of <samp>1</samp> if <code>x</code> lies inside the crescent, and $0$ otherwise."
   ]
  },
  {
   "cell_type": "code",
   "execution_count": 20,
   "metadata": {
    "ExecuteTime": {
     "end_time": "2024-10-21T18:18:26.028522Z",
     "start_time": "2024-10-21T18:18:26.017106Z"
    }
   },
   "outputs": [],
   "source": [
    "points=[(uniform(-3,0),uniform(-3,3)) for i in range(10000)]\n",
    "\n",
    "def inside_crescent(x):\n",
    "    \"\"\"Return an integer corresponding to the truth value of the statement\n",
    "    'The point given by x lies inside the crescent bounded by the regions\n",
    "    x^2+y^2<=9 and 3x^2+y^2>=9.'.\n",
    "\n",
    "    Parameters: x (tuple)\n",
    "\n",
    "    Returns: out (int)\"\"\"\n",
    "    if x[0]**2+x[1]**2<=9 and 3*x[0]**2+x[1]**2>=9:\n",
    "        out = 1\n",
    "    else:\n",
    "        out = 0\n",
    "    return out"
   ]
  },
  {
   "cell_type": "markdown",
   "metadata": {},
   "source": [
    "Once you have done this, apply `inside_crescent` to the list `points` to find an approximation of the area enclosed by the crescent."
   ]
  },
  {
   "cell_type": "code",
   "execution_count": 21,
   "metadata": {
    "ExecuteTime": {
     "end_time": "2024-10-21T18:18:26.044509Z",
     "start_time": "2024-10-21T18:18:26.030529Z"
    }
   },
   "outputs": [
    {
     "data": {
      "text/plain": [
       "5.994"
      ]
     },
     "execution_count": 21,
     "metadata": {},
     "output_type": "execute_result"
    }
   ],
   "source": [
    "18*sum([inside_crescent(i) for i in points])/len(points)"
   ]
  },
  {
   "cell_type": "markdown",
   "metadata": {},
   "source": [
    "Note that for any ellipse given by\n",
    "\n",
    "$$\\left(\\frac{x}{a}\\right)^2+\\left(\\frac{y}{b}\\right)^2=1\\:,$$\n",
    "\n",
    "the enclosed area is equal to $\\pi a b$.\n",
    "\n",
    "We can therefore evaluate the exact area of the above crescent to be\n",
    "\n",
    "$$\\frac{3\\pi}{2}\\left(3-\\sqrt{3}\\right)\\;.$$\n",
    "\n",
    "Compute this value in the box below to determine whether it closely matches the value you computed above."
   ]
  },
  {
   "cell_type": "code",
   "execution_count": 22,
   "metadata": {
    "ExecuteTime": {
     "end_time": "2024-10-21T18:18:26.052859Z",
     "start_time": "2024-10-21T18:18:26.046520Z"
    }
   },
   "outputs": [
    {
     "data": {
      "text/plain": [
       "5.97506980210009"
      ]
     },
     "execution_count": 22,
     "metadata": {},
     "output_type": "execute_result"
    }
   ],
   "source": [
    "3*np.pi/2*(3-3**0.5)"
   ]
  },
  {
   "cell_type": "markdown",
   "metadata": {},
   "source": [
    "<h2> Feedback </h2>\n",
    "\n",
    "Attempt all of these questions during Week 5. This worksheet will be discussed in detail on a Lab Walkthrough video to be posted to QMplus at the end of the week.\n",
    "\n",
    "If you have any problems or questions, or simply you would like some feedback, then you can:\n",
    "\n",
    "<ul>\n",
    "    <li> Ask the tutors present in your IT Lab sessions.</li><br>\n",
    "    <li> Ask the Student Forum on the module's QM Plus page.</li><br>\n",
    "    <li> Email the lecturers for assistance.</li>\n",
    "</ul>"
   ]
  }
 ],
 "metadata": {
  "kernelspec": {
   "display_name": "Python 3 (ipykernel)",
   "language": "python",
   "name": "python3"
  },
  "language_info": {
   "codemirror_mode": {
    "name": "ipython",
    "version": 3
   },
   "file_extension": ".py",
   "mimetype": "text/x-python",
   "name": "python",
   "nbconvert_exporter": "python",
   "pygments_lexer": "ipython3",
   "version": "3.11.3"
  }
 },
 "nbformat": 4,
 "nbformat_minor": 4
}
